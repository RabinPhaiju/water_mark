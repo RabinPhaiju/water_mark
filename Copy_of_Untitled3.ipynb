{
  "nbformat": 4,
  "nbformat_minor": 0,
  "metadata": {
    "colab": {
      "name": "Copy of Untitled3.ipynb",
      "provenance": []
    },
    "kernelspec": {
      "name": "python3",
      "display_name": "Python 3"
    },
    "language_info": {
      "name": "python"
    }
  },
  "cells": [
    {
      "cell_type": "code",
      "execution_count": null,
      "metadata": {
        "id": "t4TYDWpktxed"
      },
      "outputs": [],
      "source": [
        "def mse(imageA, imageB):\n",
        "\t# the 'Mean Squared Error' between the two images is the\n",
        "\t# sum of the squared difference between the two images;\n",
        "\t# NOTE: the two images must have the same dimension\n",
        "\terr = np.sum((imageA.astype(\"float\") - imageB.astype(\"float\")) ** 2)\n",
        "\terr /= float(imageA.shape[0] * imageA.shape[1])\n",
        "\t\n",
        "\t# return the MSE, the lower the error, the more \"similar\"\n",
        "\t# the two images are\n",
        "\treturn err"
      ]
    },
    {
      "cell_type": "code",
      "source": [
        "# import the necessary packages\n",
        "from skimage.metrics import structural_similarity as ssim\n",
        "import matplotlib.pyplot as plt\n",
        "import numpy as np\n",
        "import cv2"
      ],
      "metadata": {
        "id": "z3WUvXlQuvUW"
      },
      "execution_count": null,
      "outputs": []
    },
    {
      "cell_type": "code",
      "source": [
        "def mse(imageA, imageB):\n",
        "\t# the 'Mean Squared Error' between the two images is the\n",
        "\t# sum of the squared difference between the two images;\n",
        "\t# NOTE: the two images must have the same dimension\n",
        "\terr = np.sum((imageA.astype(\"float\") - imageB.astype(\"float\")) ** 2)\n",
        "\terr /= float(imageA.shape[0] * imageA.shape[1])\n",
        "\t\n",
        "\t# return the MSE, the lower the error, the more \"similar\"\n",
        "\t# the two images are\n",
        "\treturn err\n",
        "def compare_images(imageA, imageB, title):\n",
        "\t# compute the mean squared error and structural similarity\n",
        "\t# index for the images\n",
        "\tm = mse(imageA, imageB)\n",
        "\ts = ssim(imageA, imageB)\n",
        "\t# setup the figure\n",
        "\tfig = plt.figure(title)\n",
        "\tplt.suptitle(\"MSE: %.2f, SSIM: %.2f\" % (m, s))\n",
        "\t# show first image\n",
        "\tax = fig.add_subplot(1, 2, 1)\n",
        "\tplt.imshow(imageA, cmap = plt.cm.gray)\n",
        "\tplt.axis(\"off\")\n",
        "\t# show the second image\n",
        "\tax = fig.add_subplot(1, 2, 2)\n",
        "\tplt.imshow(imageB, cmap = plt.cm.gray)\n",
        "\tplt.axis(\"off\")\n",
        "\t# show the images\n",
        "\tplt.show()"
      ],
      "metadata": {
        "id": "7uD08NnVt_3c"
      },
      "execution_count": null,
      "outputs": []
    },
    {
      "cell_type": "code",
      "source": [
        "# load the images -- the original, the original + contrast,\n",
        "# and the original + photoshop\n",
        "original = cv2.imread(\"3s.png\");\n",
        "contrast = cv2.imread(\"4s.jpeg\");\n",
        "shopped = cv2.imread(\"6.jpeg\");\n",
        "# convert the images to grayscale\n",
        "original = cv2.cvtColor(original, cv2.COLOR_BGR2GRAY)\n",
        "contrast = cv2.cvtColor(contrast, cv2.COLOR_BGR2GRAY)\n",
        "shopped = cv2.cvtColor(shopped, cv2.COLOR_BGR2GRAY)"
      ],
      "metadata": {
        "id": "JuYvTLBJ5bpY"
      },
      "execution_count": null,
      "outputs": []
    },
    {
      "cell_type": "markdown",
      "source": [
        "# New Section"
      ],
      "metadata": {
        "id": "5NKFeTYy5pcJ"
      }
    },
    {
      "cell_type": "code",
      "source": [
        "# initialize the figure\n",
        "fig = plt.figure(\"Images\")\n",
        "images = (\"Original\", original), (\"Extracted Watermark\", contrast)\n",
        "# loop over the images\n",
        "for (i, (name, image)) in enumerate(images):\n",
        "\t# show the image\n",
        "\tax = fig.add_subplot(1, 3, i + 1)\n",
        "\tax.set_title(name)\n",
        "\tplt.imshow(image, cmap = plt.cm.gray)\n",
        "\tplt.axis(\"off\")\n",
        "# show the figure\n",
        "plt.show()\n",
        "# compare the images\n",
        "compare_images(original, original, \"Original vs. Original\")\n",
        "compare_images(original, contrast, \"Original vs. Extracted Watermark\")\n"
      ],
      "metadata": {
        "colab": {
          "base_uri": "https://localhost:8080/",
          "height": 601
        },
        "id": "XNUvwJLE5fjg",
        "outputId": "934b6b2a-84fc-4812-fd06-3371be743b7f"
      },
      "execution_count": null,
      "outputs": [
        {
          "output_type": "display_data",
          "data": {
            "text/plain": [
              "<Figure size 432x288 with 2 Axes>"
            ],
            "image/png": "[encoded data removed]"
          },
          "metadata": {
            "needs_background": "light"
          }
        },
        {
          "output_type": "display_data",
          "data": {
            "text/plain": [
              "<Figure size 432x288 with 2 Axes>"
            ],
            "image/png": "[encoded data removed]"
          },
          "metadata": {
            "needs_background": "light"
          }
        },
        {
          "output_type": "display_data",
          "data": {
            "text/plain": [
              "<Figure size 432x288 with 2 Axes>"
            ],
            "image/png": "[encoded data removed]"
          },
          "metadata": {
            "needs_background": "light"
          }
        }
      ]
    },
    {
      "cell_type": "code",
      "source": [
        ""
      ],
      "metadata": {
        "id": "GXHMQfFi5hJo"
      },
      "execution_count": null,
      "outputs": []
    }
  ]
}