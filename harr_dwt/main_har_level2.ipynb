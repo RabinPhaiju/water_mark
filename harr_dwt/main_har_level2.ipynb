{
 "cells": [
  {
   "cell_type": "code",
   "execution_count": 1,
   "metadata": {},
   "outputs": [],
   "source": [
    "import cv2\n",
    "import numpy as np\n",
    "import matplotlib.pyplot as plt\n",
    "from pywt import dwt2, idwt2"
   ]
  },
  {
   "cell_type": "code",
   "execution_count": 47,
   "metadata": {},
   "outputs": [
    {
     "name": "stdout",
     "output_type": "stream",
     "text": [
      "(3648, 5472)\n",
      "1824 2736\n",
      "79 373\n"
     ]
    },
    {
     "data": {
      "text/plain": [
       "True"
      ]
     },
     "execution_count": 47,
     "metadata": {},
     "output_type": "execute_result"
    }
   ],
   "source": [
    "# calling cover image\n",
    "A = cv2.imread('image.jpg')\n",
    "host = cv2.cvtColor(A, cv2.COLOR_BGR2GRAY)\n",
    "LL, (LH, HL, HH) = dwt2(host, 'haar')\n",
    "h, w = LL.shape\n",
    "# print('h,w', h, w)\n",
    "\n",
    "# calling watermark image\n",
    "# B = cv2.imread('barbara512.jpg') # try watermark image. text to png\n",
    "B = cv2.imread('watermark2.png') # try watermark image. text to png\n",
    "watermark = cv2.cvtColor(B, cv2.COLOR_BGR2GRAY)\n",
    "LL_w, (LH_w, HL_w, HH_w) = dwt2(watermark, 'haar')\n",
    "hh, ww = LL_w.shape\n",
    "# print('hh,ww', hh, ww)\n",
    "\n",
    "# compute xoff and yoff for placement of upper left corner of resized image\n",
    "# ---- center ----\n",
    "# yoff = round((h-hh)/2)\n",
    "# xoff = round((w-ww)/2)\n",
    "\n",
    "# --- top left ----\n",
    "# yoff = 0\n",
    "# xoff = 0\n",
    "\n",
    "# --- bottom left ---\n",
    "# yoff = h-hh\n",
    "# xoff = 0\n",
    "\n",
    "# --- top right ---\n",
    "# yoff = 0\n",
    "# xoff = w-ww\n",
    "\n",
    "# --- bottom right ---\n",
    "yoff = h-hh\n",
    "xoff = w-ww\n",
    "\n",
    "# print('yoff,xoff', yoff, xoff)\n",
    "\n",
    "# adding watermark\n",
    "manipulated = LL_w * 0.98\n",
    "# use numpy indexing to place the resized image in the center of background image\n",
    "result = LL.copy()\n",
    "result[yoff:yoff+hh, xoff:xoff+ww] += manipulated\n",
    "# new_host_LL = LL + manipulated \n",
    "result_LL = idwt2((result,( LH, HL, HH)), 'haar')\n",
    "cv2.imwrite('watermarked.jpeg', result_LL)\n",
    "\n",
    "\n",
    "# extracting watermark\n",
    "wm_LL,( m_LH, wm_HL, m_HH) = dwt2(result_LL, 'haar')\n",
    "new_LL = wm_LL - LL\n",
    "new_LL = new_LL / 0.98\n",
    "new_image = idwt2((new_LL, (LH, HL, HH)), 'haar')\n",
    "new_crop_image = new_image.copy()\n",
    "cv2.imwrite('before_extracted_watermark.jpeg', new_crop_image)\n",
    "# new_crop_image = new_crop_image[h-hh:h+hh, w-ww:w+ww] # center\n",
    "# new_crop_image = new_crop_image[0:hh*2, 0:ww*2] # top left\n",
    "# new_crop_image = new_crop_image[h*2-hh*2:h*2, 0:ww*2] # bottom left\n",
    "# new_crop_image = new_crop_image[0:hh*2, w*2-ww*2:w*2+ww*2] # top right\n",
    "new_crop_image = new_crop_image[h*2-hh*2:h*2, w*2-ww*2:w*2+ww*2] # bottom right\n",
    "cv2.imwrite('extracted_watermark.jpeg', new_crop_image)\n",
    "\n",
    "# extracting image\n",
    "wm_LL,( m_LH, wm_HL, m_HH) = dwt2(result_LL, 'haar')\n",
    "new_LL = wm_LL.copy()\n",
    "new_LL[yoff:yoff+hh, xoff:xoff+ww] -= manipulated\n",
    "new_LL = new_LL \n",
    "new_image = idwt2((new_LL, (LH, HL, HH)), 'haar')\n",
    "cv2.imwrite('extracted_image.jpeg', new_image)"
   ]
  }
 ],
 "metadata": {
  "interpreter": {
   "hash": "fd95515cc8e3061229721d2bfc1fcc431f6830e87653d2e42afa3b18e4718de7"
  },
  "kernelspec": {
   "display_name": "Python 3.9.1 64-bit",
   "language": "python",
   "name": "python3"
  },
  "language_info": {
   "codemirror_mode": {
    "name": "ipython",
    "version": 3
   },
   "file_extension": ".py",
   "mimetype": "text/x-python",
   "name": "python",
   "nbconvert_exporter": "python",
   "pygments_lexer": "ipython3",
   "version": "3.9.1"
  },
  "orig_nbformat": 4
 },
 "nbformat": 4,
 "nbformat_minor": 2
}
