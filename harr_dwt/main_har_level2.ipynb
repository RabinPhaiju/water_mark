{
 "cells": [
  {
   "cell_type": "code",
   "execution_count": 2,
   "metadata": {},
   "outputs": [],
   "source": [
    "import cv2\n",
    "import numpy as np\n",
    "import matplotlib.pyplot as plt\n",
    "from pywt import dwt2, idwt2"
   ]
  },
  {
   "cell_type": "code",
   "execution_count": 5,
   "metadata": {},
   "outputs": [
    {
     "data": {
      "text/plain": [
       "True"
      ]
     },
     "execution_count": 5,
     "metadata": {},
     "output_type": "execute_result"
    }
   ],
   "source": [
    "# calling cover image\n",
    "A = cv2.imread('image.jpg')\n",
    "host = cv2.cvtColor(A, cv2.COLOR_BGR2GRAY)\n",
    "LL, (LH, HL, HH) = dwt2(host, 'haar')\n",
    "h, w = LL.shape\n",
    "# print('h,w', h, w)\n",
    "\n",
    "# calling watermark image\n",
    "B = cv2.imread('barbara512.jpg') # try watermark image. text to png\n",
    "watermark = cv2.cvtColor(B, cv2.COLOR_BGR2GRAY)\n",
    "LL_w, (LH_w, HL_w, HH_w) = dwt2(watermark, 'haar')\n",
    "hh, ww = LL_w.shape\n",
    "# print('hh,ww', hh, ww)\n",
    "\n",
    "# compute xoff and yoff for placement of upper left corner of resized image   \n",
    "yoff = round((h-hh)/2) #center\n",
    "xoff = round((w-ww)/2) #center\n",
    "# print('yoff,xoff', yoff, xoff)\n",
    "\n",
    "# adding watermark\n",
    "manipulated = LL_w * 0.01\n",
    "# use numpy indexing to place the resized image in the center of background image\n",
    "result = LL.copy()\n",
    "result[yoff:yoff+hh, xoff:xoff+ww] += manipulated\n",
    "# new_host_LL = LL + manipulated \n",
    "result_LL = idwt2((result,( LH, HL, HH)), 'haar')\n",
    "cv2.imwrite('watermarked.jpeg', result_LL)\n",
    "\n",
    "\n",
    "# extracting watermark\n",
    "wm_LL,( m_LH, wm_HL, m_HH) = dwt2(result_LL, 'haar')\n",
    "new_LL = wm_LL - LL\n",
    "new_LL = new_LL / 0.01\n",
    "new_image = idwt2((new_LL, (LH, HL, HH)), 'haar')\n",
    "new_crop_image = new_image.copy()\n",
    "new_crop_image = new_crop_image[h-hh:h+hh, w-ww:w+ww]\n",
    "cv2.imwrite('extracted_watermark.jpeg', new_crop_image)\n",
    "\n",
    "# extracting image\n",
    "wm_LL,( m_LH, wm_HL, m_HH) = dwt2(result_LL, 'haar')\n",
    "new_LL = wm_LL.copy()\n",
    "new_LL[yoff:yoff+hh, xoff:xoff+ww] -= manipulated\n",
    "new_LL = new_LL \n",
    "new_image = idwt2((new_LL, (LH, HL, HH)), 'haar')\n",
    "cv2.imwrite('extracted.jpeg', new_image)"
   ]
  }
 ],
 "metadata": {
  "interpreter": {
   "hash": "aee8b7b246df8f9039afb4144a1f6fd8d2ca17a180786b69acc140d282b71a49"
  },
  "kernelspec": {
   "display_name": "Python 3.10.4 64-bit",
   "language": "python",
   "name": "python3"
  },
  "language_info": {
   "codemirror_mode": {
    "name": "ipython",
    "version": 3
   },
   "file_extension": ".py",
   "mimetype": "text/x-python",
   "name": "python",
   "nbconvert_exporter": "python",
   "pygments_lexer": "ipython3",
   "version": "3.10.4"
  },
  "orig_nbformat": 4
 },
 "nbformat": 4,
 "nbformat_minor": 2
}
