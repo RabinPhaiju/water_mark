{
 "cells": [
  {
   "cell_type": "code",
   "execution_count": 30,
   "metadata": {},
   "outputs": [],
   "source": [
    "import cv2\n",
    "import numpy as np\n",
    "import matplotlib.pyplot as plt\n",
    "from pywt import dwt2, idwt2"
   ]
  },
  {
   "cell_type": "code",
   "execution_count": 33,
   "metadata": {},
   "outputs": [
    {
     "name": "stdout",
     "output_type": "stream",
     "text": [
      "h,w 800 1000\n",
      "h2,w2 400 500\n",
      "(43, 221)\n",
      "(22, 111)\n"
     ]
    }
   ],
   "source": [
    "# calling cover image\n",
    "A = cv2.imread('mountain.jpg')\n",
    "host = cv2.cvtColor(A, cv2.COLOR_BGR2GRAY)\n",
    "\n",
    "LL, (LH, HL, HH) = dwt2(host, 'haar')\n",
    "h, w = LL.shape\n",
    "LL2, (LH2, HL2, HH2) = dwt2(LL, 'haar')\n",
    "h2, w2 = LL2.shape\n",
    "print('h,w', h, w)\n",
    "print('h2,w2', h2, w2)\n",
    "\n",
    "\n",
    "B = cv2.imread('image11.png') # try watermark image. text to png\n",
    "watermark = cv2.cvtColor(B, cv2.COLOR_BGR2GRAY)\n",
    "# cv2.imwrite('grayWatermark.jpeg', watermark)\n",
    "LL_w, (LH_w, HL_w, HH_w) = dwt2(watermark, 'haar')\n",
    "LL_w2, (LH_w2, HL_w2, HH_w2) = dwt2(LL_w, 'haar')\n",
    "hh, ww = LL_w.shape\n",
    "hh2, ww2 = LL_w2.shape\n",
    "print(LL_w.shape)\n",
    "print(LL_w2.shape)"
   ]
  },
  {
   "cell_type": "code",
   "execution_count": 36,
   "metadata": {},
   "outputs": [
    {
     "name": "stdout",
     "output_type": "stream",
     "text": [
      "(400, 500) (400, 500)\n",
      "(800, 1000) (800, 1000)\n"
     ]
    },
    {
     "data": {
      "text/plain": [
       "True"
      ]
     },
     "execution_count": 36,
     "metadata": {},
     "output_type": "execute_result"
    }
   ],
   "source": [
    "# ---- center ----\n",
    "yoff = round((h2-hh2)/2)\n",
    "xoff = round((w2-ww2)/2)\n",
    "\n",
    "# adding watermark\n",
    "manipulated = LL_w2 * 0.98\n",
    "# use numpy indexing to place the resized image in the center of background image\n",
    "result2 = LL2.copy()\n",
    "result2[yoff:yoff+hh2, xoff:xoff+ww2] += manipulated\n",
    "\n",
    "result_LL2 = idwt2((result2,( LH2, HL2, HH2)), 'haar')\n",
    "\n",
    "print(result2.shape, LL2.shape)\n",
    "print(result_LL2.shape, LL.shape)\n",
    "\n",
    "result_LL =  idwt2((result_LL2,( LH, HL, HH)), 'haar')\n",
    "cv2.imwrite('watermarked_level_2.jpg', result_LL)"
   ]
  },
  {
   "cell_type": "code",
   "execution_count": 37,
   "metadata": {},
   "outputs": [
    {
     "data": {
      "text/plain": [
       "True"
      ]
     },
     "execution_count": 37,
     "metadata": {},
     "output_type": "execute_result"
    }
   ],
   "source": [
    "# extracting watermark\n",
    "wm_LL,( m_LH, wm_HL, m_HH) = dwt2(result_LL, 'haar')\n",
    "wm_LL2,( m_LH2, wm_HL2, m_HH2) = dwt2(wm_LL, 'haar')\n",
    "new_LL2 = wm_LL2 - LL2\n",
    "new_LL2 = new_LL2 / 0.98\n",
    "new_image2 = idwt2((new_LL2, (LH2, HL2, HH2)), 'haar')\n",
    "new_image = idwt2((new_image2, (LH, HL, HH)), 'haar')\n",
    "new_crop_image = new_image.copy()\n",
    "cv2.imwrite('before_extracted_watermark_level2.jpg', new_crop_image)\n",
    "new_crop_image = new_crop_image[h-hh:h+hh, w-ww:w+ww]\n",
    "cv2.imwrite('extracted_watermark_level2.jpg', new_crop_image)\n",
    "\n"
   ]
  },
  {
   "cell_type": "code",
   "execution_count": 38,
   "metadata": {},
   "outputs": [
    {
     "data": {
      "text/plain": [
       "True"
      ]
     },
     "execution_count": 38,
     "metadata": {},
     "output_type": "execute_result"
    }
   ],
   "source": [
    "# extracting image\n",
    "wm_LL,( m_LH, wm_HL, m_HH) = dwt2(result_LL, 'haar')\n",
    "wm_LL2,( m_LH2, wm_HL2, m_HH2) = dwt2(wm_LL, 'haar')\n",
    "new_LL = wm_LL2.copy()\n",
    "new_LL[yoff:yoff+hh2, xoff:xoff+ww2] -= manipulated\n",
    "\n",
    "new_image2 = idwt2((new_LL, (LH2, HL2, HH2)), 'haar')\n",
    "new_image = idwt2((new_image2, (LH, HL, HH)), 'haar')\n",
    "cv2.imwrite('extracted_image_level2.jpg', new_image)"
   ]
  }
 ],
 "metadata": {
  "interpreter": {
   "hash": "fd95515cc8e3061229721d2bfc1fcc431f6830e87653d2e42afa3b18e4718de7"
  },
  "kernelspec": {
   "display_name": "Python 3.9.1 64-bit",
   "language": "python",
   "name": "python3"
  },
  "language_info": {
   "codemirror_mode": {
    "name": "ipython",
    "version": 3
   },
   "file_extension": ".py",
   "mimetype": "text/x-python",
   "name": "python",
   "nbconvert_exporter": "python",
   "pygments_lexer": "ipython3",
   "version": "3.9.1"
  },
  "orig_nbformat": 4
 },
 "nbformat": 4,
 "nbformat_minor": 2
}
