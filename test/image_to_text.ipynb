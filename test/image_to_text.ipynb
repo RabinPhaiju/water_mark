{
 "cells": [
  {
   "cell_type": "code",
   "execution_count": 1,
   "metadata": {},
   "outputs": [],
   "source": [
    "from PIL import Image\n",
    "import pytesseract"
   ]
  },
  {
   "cell_type": "code",
   "execution_count": 3,
   "metadata": {},
   "outputs": [
    {
     "name": "stdout",
     "output_type": "stream",
     "text": [
      "Khwopa Engineering College\n",
      "\n",
      "\n"
     ]
    }
   ],
   "source": [
    "# image = '1.jpg'\n",
    "# image = 'image.png'\n",
    "image = 'extracted_watermark_level2.jpg'\n",
    "pytesseract.pytesseract.tesseract_cmd = 'C:/Program Files/Tesseract-OCR/tesseract.exe'\n",
    "text = pytesseract.image_to_string(Image.open(image), lang=\"eng\")\n",
    "print(text)\n",
    "\n",
    "# Code From here: https://www.youtube.com/watch?v=kxHp5ng6Rgw"
   ]
  }
 ],
 "metadata": {
  "interpreter": {
   "hash": "fd95515cc8e3061229721d2bfc1fcc431f6830e87653d2e42afa3b18e4718de7"
  },
  "kernelspec": {
   "display_name": "Python 3.9.1 64-bit",
   "language": "python",
   "name": "python3"
  },
  "language_info": {
   "codemirror_mode": {
    "name": "ipython",
    "version": 3
   },
   "file_extension": ".py",
   "mimetype": "text/x-python",
   "name": "python",
   "nbconvert_exporter": "python",
   "pygments_lexer": "ipython3",
   "version": "3.9.1"
  },
  "orig_nbformat": 4
 },
 "nbformat": 4,
 "nbformat_minor": 2
}
